{
 "cells": [
  {
   "attachments": {},
   "cell_type": "markdown",
   "metadata": {},
   "source": [
    "# 모델 테스트\n",
    "- [YOLOv5](https://github.com/ultralytics/yolov5)를 clone 받고 해당 레포지토리에서 실행"
   ]
  },
  {
   "cell_type": "code",
   "execution_count": 4,
   "metadata": {},
   "outputs": [],
   "source": [
    "import torch\n",
    "from PIL import Image\n",
    "from io import BytesIO\n",
    "\n",
    "# GPU가 사용 가능한 경우 cuda 사용 / GPU가 사용 불가능한 경우 CPU로 초기화하여 CPU 사용\n",
    "device = torch.device(\"cuda\" if torch.cuda.is_available() else \"cpu\")\n",
    "print(f'device: {device}')"
   ]
  },
  {
   "cell_type": "code",
   "execution_count": 6,
   "metadata": {},
   "outputs": [],
   "source": [
    "## Hyperparameters ##\n",
    "\n",
    "image_size = 2048                       # 이미지 사이즈\n",
    "data_path = 'wheel_test.yaml'           # data\n",
    "weights_path = 'weights/best_0511.pt'   # weights\n",
    "save_path = 'results/test_0515'         # 결과 저장 폴더\n",
    "conf = 0.95                             # confidence threshold"
   ]
  },
  {
   "cell_type": "code",
   "execution_count": 7,
   "metadata": {},
   "outputs": [
    {
     "name": "stdout",
     "output_type": "stream",
     "text": [
      "\u001b[31m\u001b[1mrequirements:\u001b[0m C:\\Users\\SSAFY\\dev\\pjt3\\requirements.txt not found, check failed."
     ]
    },
    {
     "name": "stderr",
     "output_type": "stream",
     "text": [
      "\u001b[34m\u001b[1mval: \u001b[0mdata=C:\\Users\\SSAFY\\dev\\pjt3\\yolov5\\data\\wheel_test.yaml, weights=['weights/best_0501.pt'], batch_size=32, imgsz=2048, conf_thres=0.001, iou_thres=0.6, max_det=300, task=test, device=cpu, workers=8, single_cls=False, augment=False, verbose=False, save_txt=True, save_hybrid=True, save_conf=True, save_json=True, project=results/test_0512, name=exp, exist_ok=False, half=False, dnn=False\n",
      "WARNING  --save-hybrid will return high mAP from hybrid labels, not from predictions alone\n",
      "YOLOv5  v7.0-163-g016e046 Python-3.9.13 torch-2.0.0+cu118 CPU\n",
      "\n",
      "Fusing layers... \n",
      "Model summary: 346 layers, 76126356 parameters, 0 gradients, 109.9 GFLOPs\n",
      "\n",
      "\u001b[34m\u001b[1mtest: \u001b[0mScanning C:\\Users\\SSAFY\\dev\\pjt3\\yolov5\\datasets\\final_train_0510\\test\\labels.cache... 56 images, 0 backgrounds, 0 corrupt: 100%|██████████| 56/56 [00:00<?, ?it/s]\n",
      "\u001b[34m\u001b[1mtest: \u001b[0mScanning C:\\Users\\SSAFY\\dev\\pjt3\\yolov5\\datasets\\final_train_0510\\test\\labels.cache... 56 images, 0 backgrounds, 0 corrupt: 100%|██████████| 56/56 [00:00<?, ?it/s]\n",
      "\n",
      "                 Class     Images  Instances          P          R      mAP50   mAP50-95:   0%|          | 0/2 [00:00<?, ?it/s]\n",
      "                 Class     Images  Instances          P          R      mAP50   mAP50-95:  50%|█████     | 1/2 [13:08<13:08, 788.81s/it]\n",
      "                 Class     Images  Instances          P          R      mAP50   mAP50-95: 100%|██████████| 2/2 [19:05<00:00, 534.79s/it]\n",
      "                 Class     Images  Instances          P          R      mAP50   mAP50-95: 100%|██████████| 2/2 [19:05<00:00, 572.90s/it]\n",
      "                   all         56        616          1          1      0.995      0.995\n",
      "                 inner         56        168          1          1      0.995      0.995\n",
      "                 outer         56        448          1          1      0.995      0.995\n",
      "Speed: 67.6ms pre-process, 20224.5ms inference, 7.4ms NMS per image at shape (32, 3, 2048, 2048)\n",
      "\n",
      "Evaluating pycocotools mAP... saving results\\test_0512\\exp\\best_0501_predictions.json...\n",
      "pycocotools unable to run: [Errno 2] No such file or directory: '..\\\\datasets\\\\coco\\\\annotations\\\\instances_val2017.json'\n",
      "Results saved to \u001b[1mresults\\test_0512\\exp\u001b[0m\n",
      "56 labels saved to results\\test_0512\\exp\\labels\n"
     ]
    },
    {
     "name": "stdout",
     "output_type": "stream",
     "text": [
      "\n",
      "loading annotations into memory...\n"
     ]
    }
   ],
   "source": [
    "## 테스트 수행 ##\n",
    "!python val.py --task \"test\" --weights {weights_path} --data {data_path}  --conf {conf} --iou-thres=0.95 --img {image_size} --device {device} --save-txt --save-hybrid --project {save_path}"
   ]
  }
 ],
 "metadata": {
  "kernelspec": {
   "display_name": ".venv",
   "language": "python",
   "name": "python3"
  },
  "language_info": {
   "codemirror_mode": {
    "name": "ipython",
    "version": 3
   },
   "file_extension": ".py",
   "mimetype": "text/x-python",
   "name": "python",
   "nbconvert_exporter": "python",
   "pygments_lexer": "ipython3",
   "version": "3.9.13"
  },
  "orig_nbformat": 4
 },
 "nbformat": 4,
 "nbformat_minor": 2
}
